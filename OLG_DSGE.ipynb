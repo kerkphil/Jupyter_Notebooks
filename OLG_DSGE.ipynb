{
 "cells": [
  {
   "cell_type": "markdown",
   "metadata": {},
   "source": [
    "# Solving a Stochastic OLG Model using DSGE Tools\n",
    "\n",
    "### by [Kerk L. Phillips](https://sites.google.com/site/kerkphillips/home), July 2018\n",
    "\n",
    "The code in this Jupyter notebook was written using Python 3.6."
   ]
  },
  {
   "cell_type": "markdown",
   "metadata": {},
   "source": [
    "This notebook explains how to set up, solve and simulate an overlapping generations (OLG) model using the tools from DSGE modeling.  This notebook uses the linearization techniques implemented in the LinApp package.  This package can be downloaded at the following Github site.  [https://github.com/kerkphil/DSGE-Utilities](https://github.com/kerkphil/DSGE-Utilities).  Alternatively, both those files and this notebook can be found in the public GitHub repository [https://github.com/kerkphil/Jupyter_Notebooks](https://github.com/kerkphil/Jupyter_Notebooks).\n",
    "\n",
    "The LinApp package includes the following functions:\n",
    "\n",
    "LinApp_FindSS - Takes a function, funcname.py, and a steady state value for the exogenous state variables as inputs.  Finds the steady state for the model's endogenous state and jump variables.\n",
    "\n",
    "LinApp_Deriv - Takes a function, funcname.py, as an input.   Generates the derivative matrices needed for the Uhlig toolkit.\n",
    "\n",
    "LinApp_Solve - Takes the derivative matrices as inputs.  Uses the code from the Uhlig toolkit to generate the coefficients for the linearized policy function(s).\n",
    "\n",
    "LinApp_Sim - Takes the policy function coefficients and current state as inputs.  Generates the value(s) of the endogenous state variables for the next period.\n",
    "\n",
    "LinApp_SSL - Takes a history of exogenous state variables and the policy function coefficients as inputs.  Generates a history of state and jump variables using linearization about the steady state."
   ]
  },
  {
   "cell_type": "markdown",
   "metadata": {},
   "source": [
    "## A Model"
   ]
  },
  {
   "cell_type": "markdown",
   "metadata": {},
   "source": [
    "We begin by writing down the behavioral equations for a simple OLG model.\n",
    "\n",
    "We use the following definitions:\n",
    "\n",
    "$k_{st}$ is the capital stock in period $t$ for a household of age $s$.\n",
    "\n",
    "$K_t$ is the aggregate capital stock in period $t$\n",
    "\n",
    "$z_t$ is the percent deviation of technology from its long-run value.\n",
    "\n",
    "$r_t$ is the rental rate on capital.\n",
    "\n",
    "$w_t$ is the wage rate.\n",
    "\n",
    "$c_{st}$ is private consumption.\n",
    "\n",
    "$T_{t}$ is a lump-sum transfer from the government.\n",
    "\n",
    "$\\varepsilon_t$ is the random innovation to $z_t$\n",
    "\n",
    "We also have the following parameters:\n",
    "$\\alpha$ is the capital share in GDP.\n",
    "\n",
    "$\\beta$ is the subjective discount factor.\n",
    "\n",
    "$\\gamma$ is the curvature of the utility function.  In our example this is the constant elasticity of intertemporal substitition.  It is also the constant coefficient of relative risk aversion.\n",
    "\n",
    "$\\delta$ is the rate of capital depreciation.\n",
    "\n",
    "$\\tau$ is the flat income tax rate.\n",
    "\n",
    "$\\rho$ is the autocorrelation of $z_t$.\n",
    "\n",
    "$\\sigma$ is the standard deviation of the $\\varepsilon_t$ shocks."
   ]
  },
  {
   "cell_type": "markdown",
   "metadata": {},
   "source": [
    "Suppose the household's Bellman equation is given by:\n",
    "$$ V_s(k_{st};\\theta_t) = \\max_{k_{s+1,t+1}} \\frac{c_{st}^{1-\\gamma}-1}{1-\\gamma} + \\beta E_t\\{V_{s+1}(k_{s+1,t+1},\\theta_{t+1})\\} $$\n",
    "\n",
    "$$ (1-\\tau) \\left[w_t\\ell_{s}+(r_t-\\delta)k_{st}\\right] + k_{st} + T_{t} = c_{st}+k_{s+1,t+1} $$\n",
    "\n",
    "The first-order condition is:\n",
    "$$ c_{st}^{-\\gamma} + \\beta V_{s+1,k}(k_t, z_t)= 0 $$\n",
    "The envelope condition is:\n",
    "$$ V_{sk}(k_{st};\\theta_t) = c_t^{-\\gamma}[(r_t-\\delta)(1-\\tau)+1] $$\n",
    "The Euler equation is therefore:\n",
    "$$ c_t^{-\\gamma} = \\beta c_{t+1}^{-\\gamma}[(r_{t+1}-\\delta)(1-\\tau)+1] $$\n",
    "\n",
    "From the firm's problem we have the following:\n",
    "$$ Y_t = K_t^\\alpha (L e^{z_t})^{1-\\alpha} $$\n",
    "$$ r_t = \\alpha \\frac{Y_t}{K_t} $$\n",
    "$$ w_t = (1-\\alpha) \\frac{Y_t}{L} $$\n",
    "\n",
    "Government balances its budget each period:\n",
    "$$ T_t = \\frac{1}{S} \\sum_{s=1}^S \\tau \\left[w_t\\ell_{s}+(r_t-\\delta)k_{st}\\right]$$\n",
    "\n",
    "Market clearing conditions are:\n",
    "$$K_t = \\sum_{s=1}^S k_{st}$$\n",
    "$$L = \\sum_{s=1}^S \\ell_{s}$$\n",
    "\n",
    "Finally, we assume the following law of motion for $ z_t $:\n",
    "$$ z_t = \\rho z_{t-1} + \\varepsilon_t; \\varepsilon_t \\sim iid(0,\\sigma^2) $$"
   ]
  },
  {
   "cell_type": "markdown",
   "metadata": {},
   "source": [
    "## Rewriting in Matrix Form"
   ]
  },
  {
   "cell_type": "markdown",
   "metadata": {},
   "source": [
    "Define the following vectors\n",
    "\n",
    "$$\\mathbf{c}_t \\equiv \\begin{bmatrix} c_{1t} & c_{2t} & \\dots & c_{S-1,t} & c_{St} \\end{bmatrix}^{'}$$\n",
    "$$\\mathbf{c}^-_t \\equiv \\begin{bmatrix} c_{1t} & c_{2t} & \\dots & c_{S-1,t} \\end{bmatrix}^{'}$$\n",
    "$$\\mathbf{c}^+_t \\equiv \\begin{bmatrix} c_{2t} & \\dots & c_{S-1,t} & c_{St} \\end{bmatrix}^{'}$$\n",
    "$$\\mathbf{k}_t \\equiv \\begin{bmatrix} k_{2t} & \\dots & k_{S-1,t} & k_{St} \\end{bmatrix}^{'}$$\n",
    "$$\\mathbf{k}^-_t \\equiv \\begin{bmatrix} 0 & k_{2t} & \\dots & k_{S-1,t} & k_{St} \\end{bmatrix}^{'}$$\n",
    "$$\\mathbf{k}^+_t \\equiv \\begin{bmatrix} k_{2t} & \\dots & k_{S-1,t} & k_{St} & 0 \\end{bmatrix}^{'}$$\n",
    "$$\\mathbf{l} \\equiv \\begin{bmatrix} \\ell_{1} & \\ell_{2} & \\dots & \\ell_{S-1} & \\ell_{S} \\end{bmatrix}^{'}$$\n",
    "\n",
    "Given these definitions we can rewrite the behavioral equations as follows:\n",
    "\n",
    "A vector of Euler equations:\n",
    "$$\\mathbf{U}_c(\\mathbf{c}^-_{t},\\mathbf{l}^-_{t}) = \\beta E_t\\left\\{ \\mathbf{u}_c(\\mathbf{c}^+_{t+1},\\mathbf{l}^+_{t+1})[(r_{t+1}-\\delta)(1-\\tau)+1] \\right\\} $$\n",
    "\n",
    "A vector of budget constraints:\n",
    "$$(1-\\tau) \\left[w_t \\mathbf{l}_{t}+(r_t-\\delta)\\mathbf{k}^-_{t}\\right] + \\mathbf{k}^-_{t} + \\mathbf{T}_{t} = \\mathbf{c}_{t}+\\mathbf{k}^+_{t+1}$$\n",
    "\n",
    "Market clearing conditions:\n",
    "$$\\mathbf{1}_{1 \\times (S-1)} \\mathbf{k}^-_t = K_t$$\n",
    "$$\\mathbf{1}_{1 \\times S} \\mathbf{l} = L $$\n",
    "\n",
    "This system can be solved and simulated the same as an infintinely-lived-agent DSGE model with the following mappings.\n",
    "\n",
    "Endogenous state variables:\n",
    "$$X_t = \\left[\\mathbf{k}_{t-1}\\right]$$\n",
    "\n",
    "Exogenous state variables:\n",
    "$$Z_t = \\left[z_t\\right]$$"
   ]
  },
  {
   "cell_type": "markdown",
   "metadata": {},
   "source": [
    "## Programming Definitions Functions"
   ]
  },
  {
   "cell_type": "markdown",
   "metadata": {},
   "source": [
    "We want to write a function, $\\Gamma(X_{t+1}, X_t, X_{t-1}, Y_{t+1}, Y_t, Z_{t+1}, Z_t) = 0 $ based on the Euler equations.  This is now a $(n_x-1) \\times 1$ vector-evaluted function, rather than the scalar-evaluated function from a typical DSGE model with infintely-lived agents."
   ]
  },
  {
   "cell_type": "markdown",
   "metadata": {},
   "source": [
    "First we can define $Y_t, r_t, w_t$ and $\\mathbf{c}_t$ as functions of the state $(k_t, z_t)$ using the budget constraint and the conditions from the firm's problem.  The parameters of the model, $\\alpha, \\beta, \\gamma, \\delta, \\tau, \\rho$ and  $\\sigma$, are included in the Python list `params`.  We let $\\mathbf{l}_t$ be a vector of $\\frac{1}{S}$ terms so that $L=1$.  We add definitions for aggregate consumption ($C_t$), aggregate investment ($I_t$), and individual within-period utility ($u_t$).\n",
    "\n",
    "$$ C_t = \\mathbf{1}_{1 \\times S} \\mathbf{c}_t $$\n",
    "$$ I_t = Y_t - C_t $$\n",
    "$$ u_{st} = \\frac{c_{st}^{1-\\gamma}-1}{1-\\gamma} $$"
   ]
  },
  {
   "cell_type": "code",
   "execution_count": 1,
   "metadata": {},
   "outputs": [],
   "source": [
    "def Modeldefs(XXp, XX, Y, Z, params):\n",
    "    '''\n",
    "    This function takes vectors of endogenous and exogenous state variables\n",
    "    along with a vector of 'jump' variables and returns explicitly defined\n",
    "    values for consumption, gdp, wages, real interest rates, and transfers\n",
    "    \n",
    "    Inputs are:\n",
    "        Xp: value of capital holdings in next period\n",
    "        X: value of capital holdings this period\n",
    "        Z: value of productivity this period\n",
    "        params: list of parameter values\n",
    "    \n",
    "    Output are:\n",
    "        Y: GDP\n",
    "        w: wage rate\n",
    "        r: rental rate on capital\n",
    "        T: transfer payment\n",
    "        c: consumption by age\n",
    "        C: aggregate consumption\n",
    "        I: aggregate investment\n",
    "        u: utiity by age\n",
    "    '''\n",
    "    \n",
    "    # unpack input vectors\n",
    "    kp = np.concatenate([Xp, np.zeros(1)])\n",
    "    k = np.concatenate([np.zeros(1), X])\n",
    "    l = np.concatenate([Y])\n",
    "    z = Z\n",
    "    \n",
    "    # find definintion values\n",
    "    K = np.sum(k)\n",
    "    GDP = K**alpha*(np.exp(z))**(1-alpha)\n",
    "    w = (1-alpha)*Y\n",
    "    r = alpha*Y/K\n",
    "    T = tau*(w + (r - delta)*K)\n",
    "    c = (1-tau)*(w + (r - delta)*k) + k + T - kp\n",
    "    # check to make sure no consumptions are too low\n",
    "    c = np.maximum(c, .0001*np.ones(S))\n",
    "    C = np.sum(c)\n",
    "    I = Y - C\n",
    "    u = c**(1-gamma)/(1-gamma)\n",
    "    \n",
    "    return K, GDP, w, r, T, c, C, I, u"
   ]
  },
  {
   "cell_type": "markdown",
   "metadata": {},
   "source": [
    "Next we define our $\\Gamma$ function."
   ]
  },
  {
   "cell_type": "code",
   "execution_count": 2,
   "metadata": {},
   "outputs": [],
   "source": [
    "def Modeldyn(theta0, params):\n",
    "    '''\n",
    "    This function takes vectors of endogenous and exogenous state variables\n",
    "    along with a vector of 'jump' variables and returns values from the\n",
    "    characterizing Euler equations.\n",
    "    \n",
    "    Inputs are:\n",
    "        theta: a vector containng (Xpp, Xp, X, Zp, Z) where:\n",
    "            Xpp: value of capital in two periods\n",
    "            Xp: value of capital in next period\n",
    "            X: value of capital this period\n",
    "            Zp: value of productivity in next period\n",
    "            Z: value of productivity this period\n",
    "        params: list of parameter values\n",
    "    \n",
    "    Output is:\n",
    "        Gam: a vector of Euler equations written so that they are zero at the\n",
    "            steady state values of X, Y & Z.  This is an (S-1)x1 numpy array. \n",
    "    '''\n",
    "    \n",
    "    # unpack theta0\n",
    "    Xpp = theta0[0 : nx]\n",
    "    Xp = theta0[nx : 2*nx]\n",
    "    X = theta0[2*nx : 3*nx]\n",
    "    Yp = theta0[3*nx : 3*nx + ny]\n",
    "    Y = theta0[3*nx + ny : 3*nx + 2*ny]\n",
    "    Zp = theta0[3*nx + 2*ny : 3*nx + 2*ny + nz]\n",
    "    Z = theta0[3*nx + 2*ny+ nz : 3*nx + 2*ny + 2*nz]\n",
    "    \n",
    "    # find definitions for now and next period\n",
    "    K, Y, w, r, T, c, C, I, u = Modeldefs(Xp, X, Z, params)\n",
    "    Kp, Yp, wp, rp, Tp, cp, Cp, Ip, up = Modeldefs(Xpp, Xp, Zp, params)\n",
    "\n",
    "    # truncate c vectors for intertemporal Euler equation\n",
    "    c1 = c[0 : S-1]\n",
    "    c1p = cp[1 : S]\n",
    "    Gam1 = \n",
    "    Gam2 = (c1**(-gamma)) / (beta*c1p**(-gamma)*(1 + (1-tau)*(rp - delta))) - 1.\n",
    "    G\n",
    "\n",
    "    return Gam"
   ]
  },
  {
   "cell_type": "markdown",
   "metadata": {},
   "source": [
    "## Writing the Main Program"
   ]
  },
  {
   "cell_type": "markdown",
   "metadata": {},
   "source": [
    "Now we can write a program that will solve and simulate our model.\n",
    "First we need to call the Python packages and files we need."
   ]
  },
  {
   "cell_type": "code",
   "execution_count": 3,
   "metadata": {},
   "outputs": [],
   "source": [
    "import numpy as np\n",
    "import matplotlib.pyplot as plt\n",
    "from LinApp import LinApp_FindSS, LinApp_Deriv, LinApp_Solve, LinApp_SSL"
   ]
  },
  {
   "cell_type": "markdown",
   "metadata": {},
   "source": [
    "Next we set our parameter values."
   ]
  },
  {
   "cell_type": "code",
   "execution_count": 4,
   "metadata": {},
   "outputs": [],
   "source": [
    "S = 80\n",
    "alpha = .35\n",
    "beta = .99**(80/S)\n",
    "gamma = 2.5\n",
    "delta_ann = .08\n",
    "delta = 1. - (1. - delta_ann)**(80/S)\n",
    "tau = .05\n",
    "rho = .9**(80/S)\n",
    "sigma = .02\n",
    "\n",
    "# make parameter list to pass to functions\n",
    "params = (S, alpha, beta, gamma, delta, tau, rho, sigma)\n",
    "\n",
    "# set LinApp parameters\n",
    "Zbar = np.array([0.])\n",
    "nx = S-1\n",
    "ny = 0\n",
    "nz = 1\n",
    "logX = 0\n",
    "Sylv = 0"
   ]
  },
  {
   "cell_type": "markdown",
   "metadata": {},
   "source": [
    "### Finding the Steady State"
   ]
  },
  {
   "cell_type": "markdown",
   "metadata": {},
   "source": [
    "To find the steady state we use LinApp_FindSS.\n",
    "\n",
    "This function takes the form - LinApp_FindSS(funcname, param, guessXY, Zbar, nx, ny), where funcname will be \"Gamma\", param will be \"mparams\", guessXY will be scalar guess for the value of kbar, Zbar is 0, nx is 1, and ny is 0.  The output is XYbar, which will just be kbar in our case.  guessXY and Zbar need to be numpy arrays.\n"
   ]
  },
  {
   "cell_type": "code",
   "execution_count": 5,
   "metadata": {
    "scrolled": true
   },
   "outputs": [
    {
     "name": "stdout",
     "output_type": "stream",
     "text": [
      "check:  1.1571521518760619e-11\n"
     ]
    },
    {
     "data": {
      "image/png": "[encoded data removed]",
      "text/plain": [
       "<Figure size 432x288 with 3 Axes>"
      ]
     },
     "metadata": {
      "needs_background": "light"
     },
     "output_type": "display_data"
    },
    {
     "name": "stdout",
     "output_type": "stream",
     "text": [
      "Kbar:   7.943210686243731\n",
      "Ybar:   [2.06537363]\n",
      "Cbar:   107.83217737006362\n",
      "Ibar:   [-105.76680374]\n",
      "Tbar:   [0.07149584]\n",
      "wbar:   [1.34249286]\n",
      "rbar:   [0.09100612]\n"
     ]
    }
   ],
   "source": [
    "# take a guess for steady state values of k\n",
    "kguess = 0.001\n",
    "guessXY = kguess*np.ones(nx)\n",
    "\n",
    "# find the steady state values using LinApp_FindSS\n",
    "XYbar = LinApp_FindSS(Modeldyn, params, guessXY, Zbar, nx, ny)\n",
    "kbar = XYbar[0:nx]\n",
    "\n",
    "# set up steady state input vector\n",
    "theta0 = np.concatenate([kbar, kbar, kbar, Zbar, Zbar])\n",
    "\n",
    "# check SS solution\n",
    "check = Modeldyn(theta0, params)\n",
    "print ('check: ', np.max(np.abs(check)))\n",
    "if np.max(np.abs(check)) > 1.E-6:\n",
    "    print ('Have NOT found steady state')\n",
    "\n",
    "# find other steady state values\n",
    "Kbar, Ybar, wbar, rbar, Tbar, cbar, Cbar, Ibar, ubar = Modeldefs(kbar, kbar, Zbar, params) \n",
    "Cbar = np.sum(cbar)\n",
    "\n",
    "# plot some of these as funtions of age\n",
    "plt.subplot(3, 1, 1)\n",
    "plt.plot(kbar)\n",
    "plt.xticks([])\n",
    "plt.title('SS Capital by Age', y=.92)\n",
    "\n",
    "plt.subplot(3, 1, 2)\n",
    "plt.plot(cbar)\n",
    "plt.xticks([])\n",
    "plt.title('SS Consumption by Age', y=.92)\n",
    "\n",
    "plt.subplot(3, 1, 3)\n",
    "plt.plot(ubar)\n",
    "plt.title('SS Utility by Age', y=.92)\n",
    "\n",
    "plt.show()\n",
    "\n",
    "# print values of aggregates\n",
    "print('Kbar:  ', Kbar)\n",
    "print('Ybar:  ', Ybar)\n",
    "print('Cbar:  ', Cbar)\n",
    "print('Ibar:  ', Ibar)\n",
    "print('Tbar:  ', Tbar)\n",
    "print('wbar:  ', wbar)\n",
    "print('rbar:  ', rbar)"
   ]
  },
  {
   "cell_type": "markdown",
   "metadata": {},
   "source": [
    "### Solving for the Policy Function Parameters"
   ]
  },
  {
   "cell_type": "markdown",
   "metadata": {},
   "source": [
    "The next step is to find the derivatives of the Gamma function and then use these to solve for the coefficients of the linear policy function.  This requires using LinApp_Deriv and LinApp_Solve.\n",
    "\n",
    "We linearize or log-linearize the $\\Gamma(X_{t+1}, X_t, X_{t-1}, Y_{t+1}, Y_t, Z_{t+1}, Z_t) = 0 $ function about the steady state to get the following approximations.\n",
    "\n",
    "$$ A \\tilde X_{t} + B\\tilde X_{t-1} + C \\tilde Y_{t} + D \\tilde Z_{t} = 0$$\n",
    "\n",
    "$$E_t\\left\\{F \\tilde X_{t+1} + G \\tilde X_{t} + H \\tilde X_{t-1} + J \\tilde Y_{t+1} + K \\tilde Y_{t} + L \\tilde Z_{t+1} + M \\tilde Z_{t} \\right\\}= 0$$\n",
    "\n",
    "The top equation approximates the equation(s) defining any jump variables, while the bottom one approximates the equations(s) defining the endogenous state variable(s).\n",
    "\n",
    "Since we have no jump variables, we can ignore the top equation and write the bottom one as:\n",
    "\n",
    "$$E_t\\left\\{F \\tilde X_{t+1} + G \\tilde X_{t} + H \\tilde X_{t-1} + L \\tilde Z_{t+1} + M \\tilde Z_{t} \\right\\}= 0$$\n",
    "\n",
    "The linearized policy and jump functions are given by:\n",
    "\n",
    "$$\\tilde X_{t} = P \\tilde X_{t-1} + Q \\tilde Z_{t}$$\n",
    "\n",
    "$$\\tilde Y_{t} = R \\tilde X_{t-1} + S \\tilde Z_{t}$$\n",
    "\n",
    "Note that $\\tilde X_{t}$ is $X_{t} - \\bar X$ if we are simply linearizing, and is $\\frac{X_{t} - $X_{t} - \\bar X$}{$X_{t} - \\bar X}$ if we are log-linearizing.  The `LinApp_Deriv` function has an option that takes the appropriate derivatives.\n"
   ]
  },
  {
   "cell_type": "code",
   "execution_count": 6,
   "metadata": {},
   "outputs": [],
   "source": [
    "# find the derivatives matrices\n",
    "[AA, BB, CC, DD, FF, GG, HH, JJ, KK, LL, MM] = \\\n",
    "    LinApp_Deriv(Modeldyn, params, theta0, nx, ny, nz, logX)\n",
    "\n",
    "# set value for NN    \n",
    "NN = rho\n",
    "    \n",
    "# find the policy and jump function coefficients\n",
    "PP, QQ, RR, SS = \\\n",
    "    LinApp_Solve(AA,BB,CC,DD,FF,GG,HH,JJ,KK,LL,MM,NN,Zbar,Sylv)\n"
   ]
  },
  {
   "cell_type": "markdown",
   "metadata": {},
   "source": [
    "### Simulating the Model"
   ]
  },
  {
   "cell_type": "markdown",
   "metadata": {},
   "source": [
    "Finally we simulate our model using LinApp_SSL\n",
    "\n",
    "This function takes the form - LinApp_SSL(X0, Z, XYbar, logX, PP, QQ, RR, SS), where X0 is the starting value and Z is a numpy array containing a history of Z's generated using the law of motion.  Both Z and kbar must be 2-dimensional numpy arrays.\n"
   ]
  },
  {
   "cell_type": "code",
   "execution_count": 7,
   "metadata": {},
   "outputs": [],
   "source": [
    "# generate a history of Z's\n",
    "nobs = 250\n",
    "Zhist = np.zeros((nobs+1,1))\n",
    "for t in range(1, nobs+1):\n",
    "    Zhist[t,0] = rho*Zhist[t,0] + sigma*np.random.normal(0., 1.)\n",
    "\n",
    "XYbar = kbar\n",
    "X0 = kbar\n",
    "\n",
    "# simulate the model\n",
    "Xhist, Yhist = \\\n",
    "    LinApp_SSL(X0, Zhist, XYbar, logX, PP, QQ, RR, SS)"
   ]
  },
  {
   "cell_type": "markdown",
   "metadata": {},
   "source": [
    "With a history of k's and z's we have a history of all our state variables.  We can use our definitions function to get the histories of all the other variables."
   ]
  },
  {
   "cell_type": "code",
   "execution_count": 8,
   "metadata": {
    "scrolled": true
   },
   "outputs": [],
   "source": [
    "# generate non-state variables\n",
    "Khist = np.zeros(nobs)\n",
    "Yhist = np.zeros(nobs)\n",
    "whist = np.zeros(nobs)\n",
    "rhist = np.zeros(nobs)\n",
    "Thist = np.zeros(nobs)\n",
    "chist = np.zeros((nobs,S))\n",
    "Chist = np.zeros(nobs)\n",
    "Ihist = np.zeros(nobs)\n",
    "uhist = np.zeros((nobs,S))\n",
    "\n",
    "for t in range(0, nobs):\n",
    "    Khist[t], Yhist[t], whist[t], rhist[t], Thist[t], chist[t,:], Chist[t], Ihist[t], uhist[t,:] \\\n",
    "        = Modeldefs(Xhist[t+1,:], Xhist[t,:], Zhist[t,:], params) "
   ]
  },
  {
   "cell_type": "markdown",
   "metadata": {},
   "source": [
    "Lastly we can plot our simulated data"
   ]
  },
  {
   "cell_type": "code",
   "execution_count": 9,
   "metadata": {
    "scrolled": true
   },
   "outputs": [
    {
     "data": {
      "image/png": "[encoded data removed]",
      "text/plain": [
       "<Figure size 432x288 with 6 Axes>"
      ]
     },
     "metadata": {
      "needs_background": "light"
     },
     "output_type": "display_data"
    }
   ],
   "source": [
    "# plot\n",
    "plt.subplot(3, 2, 1)\n",
    "plt.plot(Khist)\n",
    "plt.xticks([])\n",
    "plt.title('Capital', y=.92)\n",
    "\n",
    "plt.subplot(3, 2, 2)\n",
    "plt.plot(Yhist)\n",
    "plt.xticks([])\n",
    "plt.title('GDP', y=.92)\n",
    "\n",
    "plt.subplot(3, 2, 3)\n",
    "plt.plot(whist)\n",
    "plt.xticks([])\n",
    "plt.title('Wage', y=.92)\n",
    "\n",
    "plt.subplot(3, 2, 4)\n",
    "plt.plot(rhist)\n",
    "plt.xticks([])\n",
    "plt.title('Interest', y=.92)\n",
    "\n",
    "plt.subplot(3, 2, 5)\n",
    "plt.plot(Thist)\n",
    "plt.title('Taxes', y=.92)\n",
    "\n",
    "plt.subplot(3, 2, 6)\n",
    "plt.plot(Chist)\n",
    "plt.title('Consumption', y=.92)\n",
    "\n",
    "plt.show()"
   ]
  }
 ],
 "metadata": {
  "celltoolbar": "Raw Cell Format",
  "kernelspec": {
   "display_name": "Python 3",
   "language": "python",
   "name": "python3"
  },
  "language_info": {
   "codemirror_mode": {
    "name": "ipython",
    "version": 3
   },
   "file_extension": ".py",
   "mimetype": "text/x-python",
   "name": "python",
   "nbconvert_exporter": "python",
   "pygments_lexer": "ipython3",
   "version": "3.6.10"
  }
 },
 "nbformat": 4,
 "nbformat_minor": 4
}
